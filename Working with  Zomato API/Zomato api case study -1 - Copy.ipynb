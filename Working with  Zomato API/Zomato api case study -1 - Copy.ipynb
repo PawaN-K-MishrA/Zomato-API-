{
 "cells": [
  {
   "cell_type": "markdown",
   "metadata": {},
   "source": [
    "# Zomato case study-1"
   ]
  },
  {
   "cell_type": "code",
   "execution_count": null,
   "metadata": {},
   "outputs": [],
   "source": [
    "#key ='*******************************'\n"
   ]
  },
  {
   "cell_type": "code",
   "execution_count": 1,
   "metadata": {},
   "outputs": [],
   "source": [
    "import requests\n",
    "import json"
   ]
  },
  {
   "cell_type": "markdown",
   "metadata": {},
   "source": [
    "# mexican cuisine id"
   ]
  },
  {
   "cell_type": "code",
   "execution_count": 30,
   "metadata": {},
   "outputs": [
    {
     "name": "stdout",
     "output_type": "stream",
     "text": [
      "73\n"
     ]
    }
   ],
   "source": [
    "h={'user-key':'*******************************','Accept':'application/json'}\n",
    "v={'user-key':'*******************************','city_id':23}\n",
    "response=requests.get(\"https://developers.zomato.com/api/v2.1/cuisines\",\n",
    "                      headers=h,\n",
    "                     params=v)\n",
    "data=response.json()\n",
    "for i in data['cuisines']:\n",
    "    if i['cuisine']['cuisine_name']=='Mexican':\n",
    "        print(i['cuisine']['cuisine_id'])"
   ]
  },
  {
   "cell_type": "markdown",
   "metadata": {},
   "source": [
    "# entity_id and entity_type of cannaught palace"
   ]
  },
  {
   "cell_type": "code",
   "execution_count": 2,
   "metadata": {},
   "outputs": [
    {
     "name": "stdout",
     "output_type": "stream",
     "text": [
      "{'location_suggestions': [{'entity_type': 'subzone', 'entity_id': 104, 'title': 'Connaught Place, New Delhi', 'latitude': 28.632832, 'longitude': 77.219688, 'city_id': 1, 'city_name': 'Delhi NCR', 'country_id': 1, 'country_name': 'India'}], 'status': 'success', 'has_more': 0, 'has_total': 0, 'user_has_addresses': True}\n"
     ]
    }
   ],
   "source": [
    "h={'user-key':'*******************************','Accept':'application/json'}\n",
    "v={'user-key':'*******************************','query':'Connaught Place'}\n",
    "response=requests.get(\"https://developers.zomato.com/api/v2.1/locations\",\n",
    "                      headers=h,\n",
    "                     params=v)\n",
    "data=response.json()\n",
    "print(data)"
   ]
  },
  {
   "cell_type": "markdown",
   "metadata": {},
   "source": [
    "# Fetch the top 10 best-rated restaurant serving ‘Mexican’ cuisine present in Connaught Place.\n"
   ]
  },
  {
   "cell_type": "code",
   "execution_count": 2,
   "metadata": {},
   "outputs": [],
   "source": [
    "h={'user-key':'*******************************',\n",
    "   'Accept':'application/json'}\n",
    "\n",
    "v={'user-key':'*******************************',\n",
    "   'entity_id':104,\n",
    "   'entity_type':'subzone',\n",
    "   'count':10,\n",
    "   'cuisines':'73','sort':'rating','order':'desc'}\n",
    "response=requests.get(\"https://developers.zomato.com/api/v2.1/search\",headers=h,params=v)\n",
    "\n",
    "data=response.json()\n"
   ]
  },
  {
   "cell_type": "code",
   "execution_count": 7,
   "metadata": {},
   "outputs": [
    {
     "name": "stdout",
     "output_type": "stream",
     "text": [
      "Chili's Grill & Bar 4.6 18537536\n",
      "Farzi Cafe 4.5 18233593\n",
      "Ministry Of Beer 4.3 18418277\n",
      "Xero Degrees 4.3 18729557\n",
      "Unplugged Courtyard 4.2 18216901\n",
      "The Beer Cafe - BIGGIE 4.2 307060\n",
      "Rodeo Cantina & Kitchen 4.1 18673403\n",
      "38 Barracks 4.1 18241537\n",
      "Kill The Bill 4.1 18398934\n",
      "Kinbuck 2 4.1 309586\n"
     ]
    }
   ],
   "source": [
    "for i in data['restaurants']:\n",
    "    print(i['restaurant']['name'],i['restaurant']['user_rating']['aggregate_rating'],i['restaurant']['id'])"
   ]
  },
  {
   "cell_type": "markdown",
   "metadata": {},
   "source": [
    "# category id of category cafe"
   ]
  },
  {
   "cell_type": "code",
   "execution_count": null,
   "metadata": {},
   "outputs": [],
   "source": [
    "h={'user-key':'*******************************','Accept':'application/json'}\n",
    "v={'user-key':'*******************************'}\n",
    "response=requests.get(\"https://developers.zomato.com/api/v2.1/categories\",\n",
    "                      headers=h,\n",
    "                    params=v)\n",
    "data=response.json()\n",
    "for i in data['categories']:\n",
    "    if i['categories']['name']=='Cafes':\n",
    "        print(i['categories']['id'])"
   ]
  },
  {
   "cell_type": "markdown",
   "metadata": {},
   "source": [
    "# Restaurant with category type cafes"
   ]
  },
  {
   "cell_type": "code",
   "execution_count": 8,
   "metadata": {},
   "outputs": [],
   "source": [
    "h={'user-key':'*******************************','Accept':'application/json'}\n",
    "v={'user-key':'*******************************'}\n",
    "response=requests.get(\"https://developers.zomato.com/api/v2.1/categories\",\n",
    "                      headers=h,\n",
    "                    params=v)\n",
    "data=response.json()\n",
    "for i in data['categories']:\n",
    "    if i['categories']['name']=='Cafes':\n",
    "        cafes_id=i['categories']['id']"
   ]
  },
  {
   "cell_type": "code",
   "execution_count": 9,
   "metadata": {},
   "outputs": [
    {
     "name": "stdout",
     "output_type": "stream",
     "text": [
      "Xero Degrees 4.3 18729557\n",
      "The Art House Bar n Cafe 3.9 18863766\n",
      "Cafe Delhi Heights 3.8 18579363\n",
      "Cafe Coffee Day - The Square 3.5 303034\n"
     ]
    }
   ],
   "source": [
    "h={'user-key':'*******************************',\n",
    "   'Accept':'application/json'}\n",
    "\n",
    "v={'user-key':'*******************************',\n",
    "   'entity_id':104,\n",
    "   'entity_type':'subzone',\n",
    "   'cuisines':'73',\n",
    "   'sort':'rating',\n",
    "   'order':'desc',\n",
    "  'category':str(cafes_id)}\n",
    "response=requests.get(\"https://developers.zomato.com/api/v2.1/search\",headers=h,params=v)\n",
    "\n",
    "data=response.json()\n",
    "for i in data['restaurants']:\n",
    "    print(i['restaurant']['name'],i['restaurant']['user_rating']['aggregate_rating'],i['restaurant']['id'])"
   ]
  },
  {
   "cell_type": "markdown",
   "metadata": {},
   "source": [
    "# Review of best rated restaurant"
   ]
  },
  {
   "cell_type": "code",
   "execution_count": 14,
   "metadata": {},
   "outputs": [],
   "source": [
    "h={'user-key':'*******************************','Accept':'application/json'}\n",
    "v={'user-key':'*******************************'}\n",
    "response=requests.get(\"https://developers.zomato.com/api/v2.1/categories\",\n",
    "                      headers=h,\n",
    "                    params=v)\n",
    "data=response.json()\n",
    "for i in data['categories']:\n",
    "    if i['categories']['name']=='Cafes':\n",
    "        cafes_id=i['categories']['id']\n",
    "        \n",
    "h={'user-key':'*******************************',\n",
    "   'Accept':'application/json'}\n",
    "v={'user-key':'*******************************',\n",
    "   'entity_id':104,\n",
    "   'count':1,\n",
    "   'entity_type':'subzone',\n",
    "   'cuisines':'73',\n",
    "   'sort':'rating',\n",
    "   'order':'desc',\n",
    "  'category':str(cafes_id)}\n",
    "response=requests.get(\"https://developers.zomato.com/api/v2.1/search\",headers=h,params=v)\n",
    "data=response.json()\n",
    "for i in data['restaurants']:\n",
    "    res_id=i['restaurant']['id']\n",
    "\n",
    "h={'user-key':'*******************************',\n",
    "   'Accept':'application/json'}\n",
    "v={'user-key':'*******************************',\n",
    "   'res_id':res_id,\n",
    "   'count':5}\n",
    "response=requests.get(\"https://developers.zomato.com/api/v2.1/reviews\",headers=h,params=v)\n",
    "data=response.json()"
   ]
  },
  {
   "cell_type": "code",
   "execution_count": 16,
   "metadata": {},
   "outputs": [
    {
     "name": "stdout",
     "output_type": "stream",
     "text": [
      "Kanika Jain 5 The food was very delicious. Peri peri fries are too yummy😍\n",
      "Vasu Oberoi 4 That's one of the most pocket-friendly place to find in CP!  AMBIENCE- In my opinion, this is the only part of the whole review which goes slightly negative about the cafe. The ambience is a bit dull. Lighting and seating arrangements were too congested. Have a scope of improvement.   Back to the Business- FOOD!   Pizza Jar- This was the only thing we had there. The pizza jar had broken pieces of pizza base, pizza sauce, some cheese sauce and mozzarella, of course. The whole combination is baked from top in a glass jar. The concept is very unique in itself. Also, the taste of the pizza was amazing!   SERVICE- The people on the counter were nice and polite and heard the specifications as well. Hence, all points to them.\n",
      "Sush Dingra 4 If you're junk food lover so you should try this place. Xero degree have 3-4 branches in Delhi. In the menu you'll find so many new things. Like big bang burgers or popcorn shake like wise so many things. Jar pizza was my favourite moreover Chicken fries😍.\n",
      "Foodiliicious 4 Went here few months before in CP outlet.I tried white sauce pasta,oreo shake,pizza in jar,chocolate vanilla waffles and choco brownie freak shake.Everything was so yum.Must try choco brownie freak shake.\n",
      "Foodpsychs 5 Had the popcorn caramel freak shake. Was really amazing. Totally value for money.\n"
     ]
    }
   ],
   "source": [
    "for i in data['user_reviews']:\n",
    "    print(i['review']['user']['name'],i['review']['rating'],i['review']['review_text'])"
   ]
  },
  {
   "cell_type": "markdown",
   "metadata": {},
   "source": [
    "# Zomato details of 736 A.D"
   ]
  },
  {
   "cell_type": "code",
   "execution_count": 17,
   "metadata": {},
   "outputs": [],
   "source": [
    "h={'user-key':'*******************************','Accept':'application/json'}\n",
    "v={'user-key':'*******************************',\n",
    "  'res_id':18241524}\n",
    "response=requests.get(\"https://developers.zomato.com/api/v2.1/restaurant\",headers=h,params=v)\n",
    "data=response.json()"
   ]
  },
  {
   "cell_type": "code",
   "execution_count": 19,
   "metadata": {},
   "outputs": [
    {
     "name": "stdout",
     "output_type": "stream",
     "text": [
      "3.9\n",
      "1400\n",
      "North Indian, Continental, Italian, Chinese\n",
      "G-15/B, Vijay Nagar, New Delhi\n"
     ]
    }
   ],
   "source": [
    "print(data['user_rating']['aggregate_rating'])\n",
    "print(data['average_cost_for_two'])\n",
    "print(data['cuisines'])\n",
    "print(data['location']['address'])"
   ]
  },
  {
   "cell_type": "markdown",
   "metadata": {},
   "source": [
    "# Is Table reservation supported"
   ]
  },
  {
   "cell_type": "code",
   "execution_count": 23,
   "metadata": {},
   "outputs": [
    {
     "name": "stdout",
     "output_type": "stream",
     "text": [
      "no\n"
     ]
    }
   ],
   "source": [
    "flag=data['is_table_reservation_supported']\n",
    "if flag:\n",
    "    print('yes')\n",
    "else:\n",
    "    print('no')"
   ]
  },
  {
   "cell_type": "markdown",
   "metadata": {},
   "source": [
    "# latest review of 736 A.D"
   ]
  },
  {
   "cell_type": "code",
   "execution_count": 41,
   "metadata": {},
   "outputs": [],
   "source": [
    "h={'user-key':'*******************************','Accept':'application/json'}\n",
    "v={'user-key':'*******************************',\n",
    "  'res_id':18241524,\n",
    "  'count':5}\n",
    "response=requests.get(\"https://developers.zomato.com/api/v2.1/reviews\",headers=h,params=v)\n",
    "data=response.json()"
   ]
  },
  {
   "cell_type": "code",
   "execution_count": 43,
   "metadata": {},
   "outputs": [
    {
     "name": "stdout",
     "output_type": "stream",
     "text": [
      "Arpit Jain 3 Just a simple average cafe in Gtb nagar locality. This locality is filled with cafes and good restaurants and everyone need to do something unique to atleast stand in the tough market. The best thing is their pizza, which can also be improved with little efforts but apart from that everything was just average. Infact if anyone want to know about the cafe/restaurant order a drink, this will tell you how good a place can be. And this place disappoints me with a simple drink like LIIT in which nothing can be done wrong as the recipe is too simple too follow.\n",
      "Highovermeals 4 I had a very good time regarding the drinks at 736 A.D . It had good soft music with decent ambience but the staff there was a little bit distracted from the work . Well it's just an opinion no personal grudges . You should surely pay a visit to enjoy drinks at genuine rates 🥃\n",
      "Palak Sharma 4 \n",
      "Ankita Sharma | Geographyedible 😎✌️ 5 All time favourite place ♥️💝\n",
      "Lavanya Kv 4 \n"
     ]
    }
   ],
   "source": [
    "for i in data['user_reviews']:\n",
    "    print(i['review']['user']['name'],i['review']['rating'],i['review']['review_text'])"
   ]
  },
  {
   "cell_type": "markdown",
   "metadata": {},
   "source": [
    "# Disatnce Problems"
   ]
  },
  {
   "cell_type": "code",
   "execution_count": 45,
   "metadata": {},
   "outputs": [],
   "source": [
    "h={'user-key':'*******************************','Accept':'application/json'}\n",
    "v={'user-key':'*******************************','city_id':1}\n",
    "response=requests.get(\"https://developers.zomato.com/api/v2.1/cuisines\",headers=h,params=v)\n",
    "data=response.json()"
   ]
  },
  {
   "cell_type": "code",
   "execution_count": 46,
   "metadata": {},
   "outputs": [
    {
     "name": "stdout",
     "output_type": "stream",
     "text": [
      "193\n"
     ]
    }
   ],
   "source": [
    "for i in data['cuisines']:\n",
    "    if i['cuisine']['cuisine_name']=='BBQ':\n",
    "        print(i['cuisine']['cuisine_id'])"
   ]
  },
  {
   "cell_type": "markdown",
   "metadata": {},
   "source": [
    "# Restaurant list nearest to coding ninjas"
   ]
  },
  {
   "cell_type": "code",
   "execution_count": 21,
   "metadata": {},
   "outputs": [],
   "source": [
    "h={'user-key':'*******************************',\n",
    "   'Accept':'application/json'}\n",
    "\n",
    "v={'user-key':'*******************************',\n",
    "   'count':10,\n",
    "   'lat':28.6977,\n",
    "   'lon':77.1406,\n",
    "   'cuisines':'193',\n",
    "   'sort':'real_distance',\n",
    "   'order':'desc'}\n",
    "response=requests.get(\"https://developers.zomato.com/api/v2.1/search\",headers=h,params=v)\n",
    "\n",
    "data=response.json()"
   ]
  },
  {
   "cell_type": "code",
   "execution_count": 22,
   "metadata": {},
   "outputs": [
    {
     "name": "stdout",
     "output_type": "stream",
     "text": [
      "Themis Barbecue House 4.2 18204820 Netaji Subhash Place\n",
      "Barbeque Nation 4.5 9561 Netaji Subhash Place\n",
      "New Bombay Bar-Be-Que 3.6 5303 Prashant Vihar\n",
      "Amazings Kitchen 0 19370424 Prashant Vihar\n",
      "Moet's Barbeque 0 19238917 Alipur\n",
      "UBQ by Barbeque Nation 3.2 18889760 Rohini\n",
      "Kays Bar-Be-Que 3.9 3079 Ashok Vihar Phase 1\n",
      "Chicken Adda 0 19179179 Rohini\n",
      "7teen BBQ Bistro Bnq 3.9 18595610 Moti Nagar\n",
      "Pishori Chicken 0 19061375 Kirti Nagar\n"
     ]
    }
   ],
   "source": [
    "for i in data['restaurants']:\n",
    "    print(i['restaurant']['name'],i['restaurant']['user_rating']['aggregate_rating'],i['restaurant']['id'],i['restaurant']['location']['locality'])"
   ]
  },
  {
   "cell_type": "markdown",
   "metadata": {},
   "source": [
    "# Most nearest coding ninjas restaurant review"
   ]
  },
  {
   "cell_type": "code",
   "execution_count": 15,
   "metadata": {
    "scrolled": false
   },
   "outputs": [
    {
     "name": "stdout",
     "output_type": "stream",
     "text": [
      "ANNANT VASHIST 5 I celebrated my bday in Themis barbecue . I enjoyed a lot and the staff was really good nd the food is very delicious .\n",
      "Sangeeta Kalita (thatcravingfoodie) 4 Visited them last month. On entering, you realise that the indoor seating area is not that spacious. I wanted to be seated outdoors, but then it's only allowed for dinner time. I wasn't very taken by the ambiance.  Coming to the food, I opted for the non-vegetarian buffet option. For drinks, I chose a litchi based mocktail. You could also go for beer or whisky which I think I should have chosen too, now that I think of it. But there's no use crying over spilled milk now. So coming back to my litchi mocktail, let me say it was awesome. Tart and sweet and zingy. Was a pleasant accompaniment to the starters. I really liked the chilly fish, chicken tikka, crispy corn. Cajun potatoes lacked that kick and mutton seekh was really dry. The paneer tikka too wasn't flavourful enough. And the pizza base was very tough.  The main course was so delicious. I am a manchow soup lover. And I helped myself to bowls of the veg manchow soup. Then I came across chicken hot and sour soup and gobbled that up too. I also tried different salads I think you could and should skip them. The chicken biryani and mutton rogan josh warmed up my soul with their distinctly spiced flavours. The biryani deserves special mention with the overwhelming aroma of whole spices and chunky chicken pieces. The rogan josh curry was hot and spicy and I was satisfied then and there. Nevertheless, greed occupied me again while going through other dishes and this time I helped myself to hakka chowmein and stir fried veggies in basil chilly sauce (yeah it's veg. Don't be surprised). The veggie gravy was utterly savoury and had so much going on. Sweet, sour, salty, that fresh basil hit. And by then I realised I was almost full and had to end my main course eating spree.  Coming to desserts, gulab jamuns were soul warming. The chocolate pastry was lush and bitter and kept me wanting more. The tarts were creamy and crumbley. Delicious. Moong dal halwa was all ghee and nuts and heavenly. And the strawberry ice cream was creamy and screamed fresh strawberries and not the artificial colour and flavour stuff.  Overall, it was a decent experience. Although I think cutting out the live music part during afternoons wouldn't be a bad idea afterall. It felt kinda loud and claustrophobic. The service was not bad. The prices were moderate. I paid 1300+ for two non-veg lunch buffets.\n",
      "Medhavi 5 Enjoyed a wide range of dishes at this buffet outlet with aesthetic interiors and designer exteriors. Scrumptious barbeque starters with grilled chicken,fish tikka in skewers on the table. Sipped on a variety of mocktails plus the singer was there to entertain throughout our time there. The main course dishes were made very well with excellent sea food, dum biryani , paneer dishes, types of breads and exquisite desserts to choose from namely white chocolate brownie , pineapple pastries , truffle cake and cut fruits. Would definitely recommend to one and all.\n",
      "Piyush Matreja 5 Live singing, spectacular ambience and every one enjoying to the grilled kebabs on their table, that's Themis barbeque all about. Based on the concept of buffet where you start with snacks on the table with cool mocktails. I tried the lemon ice tea and charred prawns tikka as well as chicken malai tikka ,their non veg starters were great. Main course I had mutton rogan josh with lachha parantha and enjoyed a few of my favourite desserts namely strawberry tarts and a chocolate truffle cake with cherries. I must say that was a good lunch I relished after long.\n",
      "Kimaya Divya 5 A place offering a buffet concept in the northern part of Delhi, with live music , a dj set up, comfortable seating. They have a set up of a grill hot plate with food grilled on skewers. We opted for non veg set up and ate prawns , chicken malai tikka , tandoori chicken in the hot portion, while chilly fish ,pizzas and mutton seekh kebab were served separately. The main course had lots of variety with dal Makhani, paneer kadhai , mix vegetable, chicken pilaf ,mutton rogan josh. The restaurant did their level best and made our time a memorable one.\n"
     ]
    }
   ],
   "source": [
    "h={'user-key':'*******************************',\n",
    "   'Accept':'application/json'}\n",
    "\n",
    "v={'user-key':'*******************************',\n",
    "   'count':5,\n",
    "   'res_id':18204820\n",
    "    }\n",
    "response=requests.get(\"https://developers.zomato.com/api/v2.1/reviews\",headers=h,params=v)\n",
    "\n",
    "data=response.json()\n",
    "for i in data['user_reviews']:\n",
    "    print(i['review']['user']['name'],i['review']['rating'],i['review']['review_text'])"
   ]
  },
  {
   "cell_type": "markdown",
   "metadata": {},
   "source": [
    "# Retaurants in Radius 4Km from coding ninjas"
   ]
  },
  {
   "cell_type": "code",
   "execution_count": 34,
   "metadata": {},
   "outputs": [
    {
     "name": "stdout",
     "output_type": "stream",
     "text": [
      "The Big Chill 4.9 8244 Khan Market\n",
      "Pa Pa Ya 4.9 18429148 Select Citywalk Mall, Saket\n",
      "Indian Accent 4.9 2004 The Lodhi, Lodhi Road\n",
      "Kuremal Mohan Lal Kulfi Wale 4.9 303642 Chawri Bazar\n",
      "Dum-Pukht - ITC Maurya 4.9 2744 ITC Maurya, Chanakyapuri\n",
      "Cafe Lota 4.9 305525 Pragati Maidan\n",
      "Carnatic Cafe 4.9 7843 Lodhi Colony\n",
      "Cocktails & Dreams, Speakeasy 4.9 300716 Sector 15\n",
      "The Big Chill Cakery 4.8 18665943 Khan Market\n",
      "The Big Chill 4.8 3190 Kailash Colony\n"
     ]
    }
   ],
   "source": [
    "h={'user-key':'*******************************',\n",
    "   'Accept':'application/json'}\n",
    "\n",
    "v={'user-key':'*******************************',\n",
    "   'count':10,\n",
    "   'lat':28.6977,\n",
    "   'lon':77.1406,\n",
    "   'sort':'rating',\n",
    "   'radius':4000,\n",
    "   'order':'desc'}\n",
    "response=requests.get(\"https://developers.zomato.com/api/v2.1/search\",headers=h,params=v)\n",
    "\n",
    "data=response.json()\n",
    "for i in data['restaurants']:\n",
    "    print(i['restaurant']['name'],i['restaurant']['user_rating']['aggregate_rating'],i['restaurant']['id'],i['restaurant']['location']['locality']) \n",
    "    "
   ]
  }
 ],
 "metadata": {
  "kernelspec": {
   "display_name": "Python 3",
   "language": "python",
   "name": "python3"
  },
  "language_info": {
   "codemirror_mode": {
    "name": "ipython",
    "version": 3
   },
   "file_extension": ".py",
   "mimetype": "text/x-python",
   "name": "python",
   "nbconvert_exporter": "python",
   "pygments_lexer": "ipython3",
   "version": "3.7.3"
  }
 },
 "nbformat": 4,
 "nbformat_minor": 2
}
